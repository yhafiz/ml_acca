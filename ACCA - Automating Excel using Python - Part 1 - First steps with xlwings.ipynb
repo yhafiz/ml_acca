{
 "cells": [
  {
   "cell_type": "markdown",
   "metadata": {},
   "source": [
    "<img src=\"https://courses.edx.org/asset-v1:ACCA+ML001+2T2021+type@asset+block@acca-logo.jpg\" alt=\"ACCA logo\" style=\"width: 400px;\"/>\n",
    "\n",
    "# Automating Excel using Python\n",
    "## Part 1 - First steps with xlwings\n",
    "\n",
    "* **Course:** __Machine learning with Python for finance professionals__ by ACCA\n",
    "* **Instructor:** [Coefficient](https://coefficient.ai) / [@CoefficientData](https://twitter.com/CoefficientData)\n",
    "\n",
    "---"
   ]
  },
  {
   "cell_type": "code",
   "execution_count": null,
   "metadata": {
    "scrolled": true
   },
   "outputs": [],
   "source": [
    "import pandas as pd\n",
    "import xlwings as xw"
   ]
  },
  {
   "cell_type": "markdown",
   "metadata": {},
   "source": [
    "<div class=\"alert alert-block alert-info\" style=\"background-color: #BA001E; border: 0px; -moz-border-radius: 10px; -webkit-border-radius: 10px;\">\n",
    "<h2 style=\"color: white\">\n",
    "xlwings\n",
    "</h2><br>\n",
    "</div>"
   ]
  },
  {
   "cell_type": "markdown",
   "metadata": {},
   "source": [
    "<img src=\"https://courses.edx.org/asset-v1:ACCA+ML001+2T2021+type@asset+block@xlwings.png\" alt=\"xlwings\" style=\"width: 300px;\"/>\n",
    "\n",
    "[xlwings](https://www.xlwings.org/) is an open source Python library for automating Excel and integrating Excel with the power of Python. Excel worksheets can be controlled from Python, but also Python can be controlled from Excel.\n",
    "\n",
    "xlwings offers the opportunity to start replacing hard-to-maintain VBA codebases with Python code. Once the VBA functions are re-written in Python, they can be called from within Excel as if they were any other VBA macro."
   ]
  },
  {
   "cell_type": "markdown",
   "metadata": {},
   "source": [
    "## Use `xw.view()` to take a quick look at a pandas dataframe\n",
    "Let's start by reading some data directly from this page on Wikipedia: https://en.wikipedia.org/wiki/List_of_countries_and_dependencies_by_population"
   ]
  },
  {
   "cell_type": "code",
   "execution_count": null,
   "metadata": {},
   "outputs": [],
   "source": [
    "df = pd.read_html('https://en.wikipedia.org/wiki/List_of_countries_and_dependencies_by_population')[0]\n",
    "df"
   ]
  },
  {
   "cell_type": "markdown",
   "metadata": {},
   "source": [
    "<div class=\"alert alert-block alert-danger\">\n",
    "If this doesn't work (e.g. due to corporate firewall blocking pandas from talking to Wikipedia) then you can delete the cell above and uncomment the line below.\n",
    "</div>"
   ]
  },
  {
   "cell_type": "code",
   "execution_count": null,
   "metadata": {},
   "outputs": [],
   "source": [
    "# df = pd.read_csv('population.csv')\n",
    "# df"
   ]
  },
  {
   "cell_type": "markdown",
   "metadata": {},
   "source": [
    "<div class=\"alert alert-block alert-danger\">\n",
    "You may need to open Excel first before running this next cell. If it doesn't work first time, try running the cell again.\n",
    "</div>"
   ]
  },
  {
   "cell_type": "code",
   "execution_count": null,
   "metadata": {},
   "outputs": [],
   "source": [
    "# Let's view this data directly in Excel, using xlwings.\n",
    "xw.view(df)"
   ]
  },
  {
   "cell_type": "code",
   "execution_count": null,
   "metadata": {},
   "outputs": [],
   "source": [
    "# Some of the country names have letters after their names, e.g. \"China[b]\". These are links \n",
    "# to Wikipedia footnotes. We can detect these with the pandas .str.contains() method.\n",
    "\n",
    "name_contains_footnotes = df['Country(or dependent territory)'].str.contains(\"[\", regex=False)\n",
    "df[name_contains_footnotes].head(10)"
   ]
  },
  {
   "cell_type": "code",
   "execution_count": null,
   "metadata": {},
   "outputs": [],
   "source": [
    "# We can handle this using a similar function, the pandas .str.replace() method and\n",
    "# some nifty regex.\n",
    "\n",
    "df['Country(or dependent territory)'] = (df['Country(or dependent territory)']\n",
    "                                         .str.replace(\"\\[([a-zA-Z]+)\\]\", \"\", regex=True))"
   ]
  },
  {
   "cell_type": "code",
   "execution_count": null,
   "metadata": {},
   "outputs": [],
   "source": [
    "df['Country(or dependent territory)']"
   ]
  },
  {
   "cell_type": "markdown",
   "metadata": {},
   "source": [
    "---\n",
    "\n",
    "<div class=\"alert alert-block alert-info\">\n",
    "<b>ℹ️ What is regex?</b><br/>\n",
    "\n",
    "\"<em>Regular expressions</em>\", or \"<em>regex</em>\", are a standardised language for matching patterns in strings. They allow us to answer questions like \"<a href=\"https://www.geeksforgeeks.org/find-all-the-numbers-in-a-string-using-regular-expression-in-python/\"><b>show me all the numbers in this text document</b></a>\", or \"<a href=\"https://pythonexamples.org/python-regex-find-numbers-of-specific-length-in-string/\"><b>show me all the numbers of a given length</b></a>\" or \"<a href=\"https://stackoverflow.com/questions/16405187/regular-expression-for-uk-mobile-number-python\"><b>show me all the UK mobile numbers in this document</b></a>\".\n",
    "<br/><br/>\n",
    "    \n",
    "We won't be going into any further detail on regex, but note that pandas supports regex directly (so often you don't need to use Python's `re` module if you're working on a pandas dataframe).\n",
    "<br/><br/>\n",
    "\n",
    "If you'd like to try out the regex we used above, go to <a href=\"https://regex101.com/\"><b>https://regex101.com</b></a> and:\n",
    "<ul>\n",
    "    <li>Where it says \"insert your regular expression here\" enter &nbsp; <code>\\[[a-zA-Z]+\\]</code></li>\n",
    "    <li>Where it says \"insert your test string here\" enter &nbsp; <code>China[a] India Pakistan[b] Australia[cd]</code></li>\n",
    "    <li>Notice how the bits of interest are highlighted in the text. On the right-hand side is displayed an explanation of what each part of the regex string is doing, and the matches found. This is a very useful website if you need to use regex!</li>\n",
    "</ul>            \n",
    "    \n",
    "</div>\n",
    "\n",
    "---"
   ]
  },
  {
   "cell_type": "markdown",
   "metadata": {},
   "source": [
    "For now, let's note that we've managed to remove all the footnotes (`[a]`, `[b]`, etc) from country names in our dataframe."
   ]
  },
  {
   "cell_type": "code",
   "execution_count": null,
   "metadata": {},
   "outputs": [],
   "source": [
    "df.head()"
   ]
  },
  {
   "cell_type": "markdown",
   "metadata": {},
   "source": [
    "Time to update the open Excel spreadsheet with our improved country names! The same workbook stays open and can be updated live. We can tell xlwings to update the existing workbook using the second argument, `xw.sheets.active`."
   ]
  },
  {
   "cell_type": "code",
   "execution_count": null,
   "metadata": {},
   "outputs": [],
   "source": [
    "# Note also that the sheets gets cleared with every call.\n",
    "xw.view(df, xw.sheets.active)"
   ]
  },
  {
   "cell_type": "markdown",
   "metadata": {},
   "source": [
    "> Close down this workbook when you're ready to move on."
   ]
  },
  {
   "cell_type": "markdown",
   "metadata": {},
   "source": [
    "---\n",
    "<div class=\"alert alert-block alert-info\">\n",
    "    <b>Please proceed to the next part of the course when you are ready.</b>\n",
    "</div>"
   ]
  }
 ],
 "metadata": {
  "kernelspec": {
   "display_name": "Python 3 (ipykernel)",
   "language": "python",
   "name": "python3"
  },
  "language_info": {
   "codemirror_mode": {
    "name": "ipython",
    "version": 3
   },
   "file_extension": ".py",
   "mimetype": "text/x-python",
   "name": "python",
   "nbconvert_exporter": "python",
   "pygments_lexer": "ipython3",
   "version": "3.9.12"
  },
  "toc": {
   "base_numbering": 1,
   "nav_menu": {},
   "number_sections": true,
   "sideBar": true,
   "skip_h1_title": false,
   "title_cell": "Table of Contents",
   "title_sidebar": "Contents",
   "toc_cell": false,
   "toc_position": {},
   "toc_section_display": true,
   "toc_window_display": false
  }
 },
 "nbformat": 4,
 "nbformat_minor": 4
}
